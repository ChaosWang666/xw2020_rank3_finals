{
 "metadata": {
  "language_info": {
   "codemirror_mode": {
    "name": "ipython",
    "version": 3
   },
   "file_extension": ".py",
   "mimetype": "text/x-python",
   "name": "python",
   "nbconvert_exporter": "python",
   "pygments_lexer": "ipython3",
   "version": "3.7.8-final"
  },
  "orig_nbformat": 2,
  "kernelspec": {
   "name": "python37864bittfmainvenvd98ddf667aad420d8b18f6282cda8b05",
   "display_name": "Python 3.7.8 64-bit ('tf_main': venv)"
  }
 },
 "nbformat": 4,
 "nbformat_minor": 2,
 "cells": [
  {
   "cell_type": "code",
   "execution_count": null,
   "metadata": {},
   "outputs": [],
   "source": [
    "import tensorflow as tf\n",
    "import numpy as np\n",
    "from tensorflow import keras\n",
    "from utils import *\n",
    "import pandas as pd\n",
    "\n",
    "data = np.load('data.npz')\n",
    "train_data = data['train_data']\n",
    "test_data = data['test_data']\n",
    "train_labels = data['train_labels']\n",
    "\n",
    "train_feature1 = pd.read_csv('../dataset/feature1.csv')[:len(train_data)].values[:, 1:]\n",
    "test_feature1 = pd.read_csv('../dataset/feature1.csv')[len(train_data):].values[:, 1:]\n",
    "\n",
    "train_data.shape, train_labels.shape, test_data.shape, train_feature1.shape, test_feature1.shape"
   ]
  },
  {
   "cell_type": "code",
   "execution_count": null,
   "metadata": {},
   "outputs": [],
   "source": [
    "train_data = tf.cast(train_data, tf.float32).numpy()\n",
    "train_labels = tf.one_hot(train_labels, 20).numpy()"
   ]
  },
  {
   "cell_type": "code",
   "execution_count": null,
   "metadata": {},
   "outputs": [],
   "source": [
    "from sklearn.preprocessing import StandardScaler\n",
    "ss = StandardScaler()\n",
    "train_feature1 = ss.fit_transform(train_feature1)\n",
    "test_feature1 = ss.transform(test_feature1)"
   ]
  },
  {
   "cell_type": "code",
   "execution_count": null,
   "metadata": {},
   "outputs": [],
   "source": [
    "def res_block(seq, filters, kernal_size):\n",
    "    cnn = keras.layers.Conv1D(filters, 1, padding='SAME', activation='relu')(seq)\n",
    "    cnn = keras.layers.LayerNormalization()(cnn)\n",
    "\n",
    "    cnn = keras.layers.Conv1D(filters, kernal_size, padding='SAME', activation='relu')(cnn)\n",
    "    cnn = keras.layers.LayerNormalization()(cnn)\n",
    "\n",
    "    cnn = keras.layers.Conv1D(filters, 1, padding='SAME', activation='relu')(cnn)\n",
    "    cnn = keras.layers.LayerNormalization()(cnn)\n",
    "\n",
    "    seq = keras.layers.Conv1D(filters, 1)(seq)\n",
    "    seq = keras.layers.Add()([seq, cnn])\n",
    "    return seq\n",
    "\n",
    "def inception_block(seq, filters=128, kernal_size=5):\n",
    "    seq = res_block(seq, filters, kernal_size)\n",
    "    seq = keras.layers.MaxPooling1D(2)(seq)\n",
    "    seq = keras.layers.SpatialDropout1D(0.3)(seq)\n",
    "    seq = res_block(seq, filters//2, kernal_size)\n",
    "    seq = keras.layers.GlobalAveragePooling1D()(seq)\n",
    "    return seq"
   ]
  },
  {
   "cell_type": "code",
   "execution_count": null,
   "metadata": {},
   "outputs": [],
   "source": [
    "def scheduler_func(epoch):\n",
    "    if epoch < 25:\n",
    "        rate = 1e-3\n",
    "    elif epoch >= 25 and epoch < 35:\n",
    "        rate = 3e-4\n",
    "    elif epoch >= 35:\n",
    "        rate = 9e-5\n",
    "    return rate * 1.0"
   ]
  },
  {
   "cell_type": "code",
   "execution_count": null,
   "metadata": {},
   "outputs": [],
   "source": [
    "def build_model(input_shape, num_classes):\n",
    "    inputs = keras.layers.Input(shape=input_shape[1:])\n",
    "\n",
    "    input_ex = keras.layers.Input(shape=train_feature1.shape[1])\n",
    "    seq_ex = input_ex\n",
    "\n",
    "    seq_3 = inception_block(inputs, kernal_size=3)\n",
    "    seq_5 = inception_block(inputs, kernal_size=5)\n",
    "    seq_7 = inception_block(inputs, kernal_size=7)\n",
    "\n",
    "    seq = keras.layers.concatenate([seq_3, seq_5, seq_7, seq_ex])\n",
    "    seq = keras.layers.Dense(512, activation='relu')(seq)\n",
    "    seq = keras.layers.Dropout(0.3)(seq)\n",
    "    seq = keras.layers.Dense(128, activation='relu')(seq)\n",
    "    seq = keras.layers.Dropout(0.3)(seq)\n",
    "    outputs = keras.layers.Dense(num_classes, activation='softmax')(seq)\n",
    "\n",
    "    model = keras.models.Model(inputs=[inputs, input_ex], outputs=[outputs])\n",
    "\n",
    "    model.compile(optimizer=tf.optimizers.Adam(1e-3),\n",
    "            loss=tf.losses.CategoricalCrossentropy(label_smoothing=0.1),           \n",
    "            metrics=['accuracy'])\n",
    "\n",
    "    return model"
   ]
  },
  {
   "cell_type": "code",
   "execution_count": null,
   "metadata": {
    "tags": []
   },
   "outputs": [],
   "source": [
    "kfcv_fit2(builder=lambda : build_model(train_data.shape, 20),\n",
    "                x=[train_data, train_feature1], y=train_labels,\n",
    "                epochs=40,\n",
    "                checkpoint_path = './models/conv1d/',\n",
    "                batch_size=64,\n",
    "                extra_callbacks=[keras.callbacks.LearningRateScheduler(scheduler_func)],\n",
    "                verbose=2,\n",
    "                noise_std=0.075\n",
    "                )"
   ]
  },
  {
   "cell_type": "code",
   "execution_count": null,
   "metadata": {},
   "outputs": [],
   "source": [
    "np.save('conv1d_pred.npy', kfcv_predict('models/conv1d', [test_data, test_feature1]))"
   ]
  }
 ]
}