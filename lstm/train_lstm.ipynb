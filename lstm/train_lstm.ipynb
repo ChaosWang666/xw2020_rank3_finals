{
 "cells": [
  {
   "cell_type": "code",
   "execution_count": null,
   "metadata": {},
   "outputs": [],
   "source": [
    "import tensorflow as tf\n",
    "import numpy as np\n",
    "from tensorflow import keras\n",
    "from utils import *\n",
    "import pandas as pd\n",
    "\n",
    "data = np.load('data.npz')\n",
    "train_data = data['train_data']\n",
    "test_data = data['test_data']\n",
    "train_labels = data['train_labels']\n",
    "\n",
    "train_data.shape, train_labels.shape, test_data.shape"
   ]
  },
  {
   "cell_type": "code",
   "execution_count": null,
   "metadata": {},
   "outputs": [],
   "source": [
    "train_data = tf.cast(train_data, tf.float32).numpy()\n",
    "train_labels = tf.one_hot(train_labels, 20).numpy()"
   ]
  },
  {
   "cell_type": "code",
   "execution_count": null,
   "metadata": {},
   "outputs": [],
   "source": [
    "def se_module(seq, reduction_ratio = 16):\n",
    "    #[None, time_steps, channels]\n",
    "    se = keras.layers.GlobalAveragePooling1D()(seq)\n",
    "    #[None, channels]\n",
    "    se = keras.layers.Dense(seq.shape[-1] / reduction_ratio, activation='relu')(se)\n",
    "    se = keras.layers.Dense(seq.shape[-1], activation='relu')(se)\n",
    "    se = tf.nn.sigmoid(se)\n",
    "    #[None, channels]\n",
    "    se = keras.layers.Reshape([1, seq.shape[-1]])(se)\n",
    "    #[None, 1, channels]\n",
    "    return tf.multiply(seq, se)"
   ]
  },
  {
   "cell_type": "code",
   "execution_count": null,
   "metadata": {},
   "outputs": [],
   "source": [
    "def build_model(input_shape, num_classes):\n",
    "    inputs = keras.layers.Input(shape=input_shape[1:])\n",
    "    masking = keras.layers.Masking(mask_value=0.0)(inputs)\n",
    "    seq = keras.layers.LSTM(128, return_sequences=True,\n",
    "                                unit_forget_bias=False,\n",
    "                                recurrent_regularizer=keras.regularizers.l2(0.03),\n",
    "    )(masking)\n",
    "    seq = keras.layers.LayerNormalization()(seq)\n",
    "    seq = se_module(seq)\n",
    "    forward_layer = keras.layers.LSTM(128, return_sequences=True,\n",
    "                        unit_forget_bias=False,\n",
    "                        recurrent_regularizer = keras.regularizers.l2(0.015),\n",
    "                        )\n",
    "    backward_layer = keras.layers.LSTM(128, return_sequences=True,\n",
    "                        go_backwards=True,\n",
    "                        unit_forget_bias=False,\n",
    "                        recurrent_regularizer = keras.regularizers.l2(0.005),\n",
    "                        )\n",
    "    seq = keras.layers.Bidirectional(\n",
    "                        layer=forward_layer,\n",
    "                        backward_layer=backward_layer,\n",
    "                        )(seq)\n",
    "    seq = keras.layers.GlobalAveragePooling1D()(seq)\n",
    "    seq = keras.layers.Dense(512, activation='relu')(seq)\n",
    "    seq = keras.layers.Dropout(0.3)(seq)\n",
    "    seq = keras.layers.Dense(128, activation='relu')(seq)\n",
    "    seq = keras.layers.Dropout(0.3)(seq)\n",
    "    outputs = keras.layers.Dense(num_classes, activation='softmax')(seq)\n",
    "\n",
    "    model = keras.models.Model(inputs=[inputs], outputs=[outputs])\n",
    "\n",
    "    model.compile(optimizer=tf.optimizers.Adam(),\n",
    "            loss=tf.losses.CategoricalCrossentropy(label_smoothing=0.1),           \n",
    "            metrics=['accuracy'])\n",
    "    return model"
   ]
  },
  {
   "cell_type": "code",
   "execution_count": null,
   "metadata": {},
   "outputs": [],
   "source": [
    "def scheduler_func(epoch):\n",
    "    if epoch < 15:\n",
    "        rate = 1e-3\n",
    "    elif epoch >= 15 and epoch < 25:\n",
    "        rate = 3e-4\n",
    "    elif epoch >= 25:\n",
    "        rate = 9e-5\n",
    "    return rate * 1.0"
   ]
  },
  {
   "cell_type": "code",
   "execution_count": null,
   "metadata": {
    "tags": [
     "outputPrepend"
    ]
   },
   "outputs": [],
   "source": [
    "kfcv_fit(builder=lambda : build_model(train_data.shape, 20),\n",
    "                x=train_data, y=train_labels,\n",
    "                epochs=40,\n",
    "                checkpoint_path = './models/lstm/',\n",
    "                batch_size=64,\n",
    "                extra_callbacks=[keras.callbacks.LearningRateScheduler(scheduler_func)],\n",
    "                verbose=2,\n",
    "                noise_std=0.05\n",
    "                )"
   ]
  },
  {
   "cell_type": "code",
   "execution_count": null,
   "metadata": {
    "tags": []
   },
   "outputs": [],
   "source": [
    "np.save('lstm_pred.npy', kfcv_predict('models/lstm', test_data))"
   ]
  }
 ],
 "metadata": {
  "kernelspec": {
   "display_name": "Python 3",
   "language": "python",
   "name": "python3"
  },
  "language_info": {
   "codemirror_mode": {
    "name": "ipython",
    "version": 3
   },
   "file_extension": ".py",
   "mimetype": "text/x-python",
   "name": "python",
   "nbconvert_exporter": "python",
   "pygments_lexer": "ipython3",
   "version": "3.7.8-final"
  }
 },
 "nbformat": 4,
 "nbformat_minor": 4
}